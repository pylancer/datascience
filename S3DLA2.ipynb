{
  "cells": [
    {
      "cell_type": "markdown",
      "metadata": {
        "id": "view-in-github",
        "colab_type": "text"
      },
      "source": [
        "<a href=\"https://colab.research.google.com/github/pylancer/masters/blob/main/S3DLA2.ipynb\" target=\"_parent\"><img src=\"https://colab.research.google.com/assets/colab-badge.svg\" alt=\"Open In Colab\"/></a>"
      ]
    },
    {
      "cell_type": "markdown",
      "source": [
        "**Import the required libraries.**"
      ],
      "metadata": {
        "id": "DLEEHJKir9U3"
      }
    },
    {
      "cell_type": "code",
      "execution_count": null,
      "metadata": {
        "id": "RefTY0lLnier"
      },
      "outputs": [],
      "source": [
        "import os\n",
        "from google.colab import files\n",
        "import numpy as np\n",
        "import pandas as pd \n",
        "import matplotlib.pyplot as plt\n",
        "import pickle\n",
        "\n",
        "from sklearn.model_selection import train_test_split\n",
        "from sklearn.metrics import accuracy_score, confusion_matrix\n",
        "\n",
        "from tensorflow.keras.layers import *\n",
        "from tensorflow.keras.utils import to_categorical\n",
        "from tensorflow.keras.callbacks import EarlyStopping\n",
        "from tensorflow.keras.models import Sequential\n",
        "import cv2 #OpenCV\n",
        "\n",
        "from tqdm import tqdm #progress bar\n",
        "import itertools\n",
        "\n",
        "os.environ['TF_CPP_MIN_LOG_LEVEL'] = '3' #to not print tf info, error and warning messages"
      ]
    },
    {
      "cell_type": "markdown",
      "source": [
        "**Check the GPU available**"
      ],
      "metadata": {
        "id": "URW5BMPcsCnV"
      }
    },
    {
      "cell_type": "code",
      "source": [
        "gpu_info = !nvidia-smi\n",
        "gpu_info = '\\n'.join(gpu_info)\n",
        "if gpu_info.find('failed') >= 0:\n",
        "  print('Not connected to a GPU')\n",
        "else:\n",
        "  print(gpu_info)"
      ],
      "metadata": {
        "colab": {
          "base_uri": "https://localhost:8080/"
        },
        "id": "U9AQs0MYsM-9",
        "outputId": "440ef472-6be0-4f6e-d83c-f5b747da2a35"
      },
      "execution_count": null,
      "outputs": [
        {
          "output_type": "stream",
          "name": "stdout",
          "text": [
            "Not connected to a GPU\n"
          ]
        }
      ]
    },
    {
      "cell_type": "markdown",
      "source": [
        "**Check the RAM available**"
      ],
      "metadata": {
        "id": "EEurOlejIpN6"
      }
    },
    {
      "cell_type": "code",
      "source": [
        "from psutil import virtual_memory\n",
        "ram_gb = virtual_memory().total / 1e9\n",
        "print('Your runtime has {:.1f} gigabytes of available RAM\\n'.format(ram_gb))\n",
        "\n",
        "if ram_gb < 20:\n",
        "  print('Not using a high-RAM runtime')\n",
        "else:\n",
        "  print('You are using a high-RAM runtime!')"
      ],
      "metadata": {
        "colab": {
          "base_uri": "https://localhost:8080/"
        },
        "id": "7bo0dmLMsSJd",
        "outputId": "76193378-5ab7-41d0-afff-ca1d535d13a7"
      },
      "execution_count": null,
      "outputs": [
        {
          "output_type": "stream",
          "name": "stdout",
          "text": [
            "Your runtime has 13.6 gigabytes of available RAM\n",
            "\n",
            "Not using a high-RAM runtime\n"
          ]
        }
      ]
    },
    {
      "cell_type": "code",
      "source": [
        "#Get Classifier File\n",
        "#https://drive.google.com/file/d/1aKyaXG2ypR-SdOskfeZ2QukdMaLBdtwV/view?usp=share_link\n",
        "! gdown 1aKyaXG2ypR-SdOskfeZ2QukdMaLBdtwV"
      ],
      "metadata": {
        "colab": {
          "base_uri": "https://localhost:8080/"
        },
        "id": "_0YuKGdiTcz0",
        "outputId": "3a366203-f141-49c0-d1b8-ef116708483e"
      },
      "execution_count": null,
      "outputs": [
        {
          "output_type": "stream",
          "name": "stdout",
          "text": [
            "Downloading...\n",
            "From: https://drive.google.com/uc?id=1aKyaXG2ypR-SdOskfeZ2QukdMaLBdtwV\n",
            "To: /content/classInd.txt\n",
            "\r  0% 0.00/1.59k [00:00<?, ?B/s]\r100% 1.59k/1.59k [00:00<00:00, 2.61MB/s]\n"
          ]
        }
      ]
    },
    {
      "cell_type": "code",
      "source": [
        "#Get Labels Pickle\n",
        "#https://drive.google.com/file/d/1Dx2-ceQNeKEdI2LZvbzQ_31MXSHLqXEI/view?usp=share_link\n",
        "! gdown 1Dx2-ceQNeKEdI2LZvbzQ_31MXSHLqXEI"
      ],
      "metadata": {
        "colab": {
          "base_uri": "https://localhost:8080/"
        },
        "id": "ZVx0EtHbhROr",
        "outputId": "fcd13636-27f0-4064-a55f-83b66eadcf3b"
      },
      "execution_count": null,
      "outputs": [
        {
          "output_type": "stream",
          "name": "stdout",
          "text": [
            "Downloading...\n",
            "From: https://drive.google.com/uc?id=1Dx2-ceQNeKEdI2LZvbzQ_31MXSHLqXEI\n",
            "To: /content/ucf101labels.pkl\n",
            "\r  0% 0.00/13.5k [00:00<?, ?B/s]\r100% 13.5k/13.5k [00:00<00:00, 19.2MB/s]\n"
          ]
        }
      ]
    },
    {
      "cell_type": "code",
      "source": [
        "#Get Images Pickle (WARNING: 1.44 GB File, downloading will take upto a minute)\n",
        "#https://drive.google.com/file/d/1uD4L1eJjaYgxxoJTZu_nVoEdIbWjtrXP/view?usp=share_link\n",
        "! gdown 1uD4L1eJjaYgxxoJTZu_nVoEdIbWjtrXP"
      ],
      "metadata": {
        "colab": {
          "base_uri": "https://localhost:8080/"
        },
        "id": "9Egm7pBrhRvW",
        "outputId": "bc482132-2fa3-4ebd-b938-3fe67e8030b3"
      },
      "execution_count": null,
      "outputs": [
        {
          "output_type": "stream",
          "name": "stdout",
          "text": [
            "Downloading...\n",
            "From: https://drive.google.com/uc?id=1uD4L1eJjaYgxxoJTZu_nVoEdIbWjtrXP\n",
            "To: /content/ucf101images.pkl\n",
            "100% 1.44G/1.44G [00:14<00:00, 100MB/s]\n"
          ]
        }
      ]
    },
    {
      "cell_type": "markdown",
      "source": [
        "**Identify and store the Classifiers/Labels**"
      ],
      "metadata": {
        "id": "NijN-F-cIxV2"
      }
    },
    {
      "cell_type": "code",
      "execution_count": null,
      "metadata": {
        "colab": {
          "base_uri": "https://localhost:8080/",
          "height": 206
        },
        "id": "VABxtvownies",
        "outputId": "73f14a71-62f3-4072-ae76-5988999647b5"
      },
      "outputs": [
        {
          "output_type": "execute_result",
          "data": {
            "text/plain": [
              "           labels\n",
              "0  ApplyEyeMakeup\n",
              "1   ApplyLipstick\n",
              "2         Archery\n",
              "3    BabyCrawling\n",
              "4     BalanceBeam"
            ],
            "text/html": [
              "\n",
              "  <div id=\"df-741c287f-e393-47ae-bbff-0e12c4fdccfb\">\n",
              "    <div class=\"colab-df-container\">\n",
              "      <div>\n",
              "<style scoped>\n",
              "    .dataframe tbody tr th:only-of-type {\n",
              "        vertical-align: middle;\n",
              "    }\n",
              "\n",
              "    .dataframe tbody tr th {\n",
              "        vertical-align: top;\n",
              "    }\n",
              "\n",
              "    .dataframe thead th {\n",
              "        text-align: right;\n",
              "    }\n",
              "</style>\n",
              "<table border=\"1\" class=\"dataframe\">\n",
              "  <thead>\n",
              "    <tr style=\"text-align: right;\">\n",
              "      <th></th>\n",
              "      <th>labels</th>\n",
              "    </tr>\n",
              "  </thead>\n",
              "  <tbody>\n",
              "    <tr>\n",
              "      <th>0</th>\n",
              "      <td>ApplyEyeMakeup</td>\n",
              "    </tr>\n",
              "    <tr>\n",
              "      <th>1</th>\n",
              "      <td>ApplyLipstick</td>\n",
              "    </tr>\n",
              "    <tr>\n",
              "      <th>2</th>\n",
              "      <td>Archery</td>\n",
              "    </tr>\n",
              "    <tr>\n",
              "      <th>3</th>\n",
              "      <td>BabyCrawling</td>\n",
              "    </tr>\n",
              "    <tr>\n",
              "      <th>4</th>\n",
              "      <td>BalanceBeam</td>\n",
              "    </tr>\n",
              "  </tbody>\n",
              "</table>\n",
              "</div>\n",
              "      <button class=\"colab-df-convert\" onclick=\"convertToInteractive('df-741c287f-e393-47ae-bbff-0e12c4fdccfb')\"\n",
              "              title=\"Convert this dataframe to an interactive table.\"\n",
              "              style=\"display:none;\">\n",
              "        \n",
              "  <svg xmlns=\"http://www.w3.org/2000/svg\" height=\"24px\"viewBox=\"0 0 24 24\"\n",
              "       width=\"24px\">\n",
              "    <path d=\"M0 0h24v24H0V0z\" fill=\"none\"/>\n",
              "    <path d=\"M18.56 5.44l.94 2.06.94-2.06 2.06-.94-2.06-.94-.94-2.06-.94 2.06-2.06.94zm-11 1L8.5 8.5l.94-2.06 2.06-.94-2.06-.94L8.5 2.5l-.94 2.06-2.06.94zm10 10l.94 2.06.94-2.06 2.06-.94-2.06-.94-.94-2.06-.94 2.06-2.06.94z\"/><path d=\"M17.41 7.96l-1.37-1.37c-.4-.4-.92-.59-1.43-.59-.52 0-1.04.2-1.43.59L10.3 9.45l-7.72 7.72c-.78.78-.78 2.05 0 2.83L4 21.41c.39.39.9.59 1.41.59.51 0 1.02-.2 1.41-.59l7.78-7.78 2.81-2.81c.8-.78.8-2.07 0-2.86zM5.41 20L4 18.59l7.72-7.72 1.47 1.35L5.41 20z\"/>\n",
              "  </svg>\n",
              "      </button>\n",
              "      \n",
              "  <style>\n",
              "    .colab-df-container {\n",
              "      display:flex;\n",
              "      flex-wrap:wrap;\n",
              "      gap: 12px;\n",
              "    }\n",
              "\n",
              "    .colab-df-convert {\n",
              "      background-color: #E8F0FE;\n",
              "      border: none;\n",
              "      border-radius: 50%;\n",
              "      cursor: pointer;\n",
              "      display: none;\n",
              "      fill: #1967D2;\n",
              "      height: 32px;\n",
              "      padding: 0 0 0 0;\n",
              "      width: 32px;\n",
              "    }\n",
              "\n",
              "    .colab-df-convert:hover {\n",
              "      background-color: #E2EBFA;\n",
              "      box-shadow: 0px 1px 2px rgba(60, 64, 67, 0.3), 0px 1px 3px 1px rgba(60, 64, 67, 0.15);\n",
              "      fill: #174EA6;\n",
              "    }\n",
              "\n",
              "    [theme=dark] .colab-df-convert {\n",
              "      background-color: #3B4455;\n",
              "      fill: #D2E3FC;\n",
              "    }\n",
              "\n",
              "    [theme=dark] .colab-df-convert:hover {\n",
              "      background-color: #434B5C;\n",
              "      box-shadow: 0px 1px 3px 1px rgba(0, 0, 0, 0.15);\n",
              "      filter: drop-shadow(0px 1px 2px rgba(0, 0, 0, 0.3));\n",
              "      fill: #FFFFFF;\n",
              "    }\n",
              "  </style>\n",
              "\n",
              "      <script>\n",
              "        const buttonEl =\n",
              "          document.querySelector('#df-741c287f-e393-47ae-bbff-0e12c4fdccfb button.colab-df-convert');\n",
              "        buttonEl.style.display =\n",
              "          google.colab.kernel.accessAllowed ? 'block' : 'none';\n",
              "\n",
              "        async function convertToInteractive(key) {\n",
              "          const element = document.querySelector('#df-741c287f-e393-47ae-bbff-0e12c4fdccfb');\n",
              "          const dataTable =\n",
              "            await google.colab.kernel.invokeFunction('convertToInteractive',\n",
              "                                                     [key], {});\n",
              "          if (!dataTable) return;\n",
              "\n",
              "          const docLinkHtml = 'Like what you see? Visit the ' +\n",
              "            '<a target=\"_blank\" href=https://colab.research.google.com/notebooks/data_table.ipynb>data table notebook</a>'\n",
              "            + ' to learn more about interactive tables.';\n",
              "          element.innerHTML = '';\n",
              "          dataTable['output_type'] = 'display_data';\n",
              "          await google.colab.output.renderOutput(dataTable, element);\n",
              "          const docLink = document.createElement('div');\n",
              "          docLink.innerHTML = docLinkHtml;\n",
              "          element.appendChild(docLink);\n",
              "        }\n",
              "      </script>\n",
              "    </div>\n",
              "  </div>\n",
              "  "
            ]
          },
          "metadata": {},
          "execution_count": 19
        }
      ],
      "source": [
        "label_data = pd.read_csv(\"classInd.txt\", sep=' ', header=None)\n",
        "label_data.columns=['index', 'labels']\n",
        "label_data = label_data.drop(['index'], axis=1)\n",
        "label_data.head()"
      ]
    },
    {
      "cell_type": "markdown",
      "source": [
        "**Connect to Google Drive where the UCF-101 Videos are stored. \n",
        "NOTE: We will be using the generated pickle files for images and labels, hence below 2 cells are commented out (Uncomment for 1st time execution if pickle files are not generated):**"
      ],
      "metadata": {
        "id": "aqwiztn7_G1C"
      }
    },
    {
      "cell_type": "code",
      "execution_count": null,
      "metadata": {
        "id": "YibhYbECqn5-"
      },
      "outputs": [],
      "source": [
        "# from google.colab import drive\n",
        "# drive.mount('/content/drive')\n",
        "# path=[]"
      ]
    },
    {
      "cell_type": "code",
      "source": [
        "# for label in label_data.labels.values:\n",
        "#     path.append('/content/drive/My Drive/DLA2/UCF-101/'+label+\"/\")\n",
        "# path[0]"
      ],
      "metadata": {
        "id": "TzDkwO4nR7TT"
      },
      "execution_count": null,
      "outputs": []
    },
    {
      "cell_type": "markdown",
      "source": [
        "Feature Extraction from videos"
      ],
      "metadata": {
        "id": "GJLiboKzC_ZY"
      }
    },
    {
      "cell_type": "code",
      "execution_count": null,
      "metadata": {
        "id": "j5qGMNBbnieu"
      },
      "outputs": [],
      "source": [
        "def feature_extraction(video_path):\n",
        "    width=60\n",
        "    height=60\n",
        "    sequence_length=5\n",
        "    frames_list=[]\n",
        "    video_reader = cv2.VideoCapture(video_path) #Read Video\n",
        "    frame_count=int(video_reader.get(cv2.CAP_PROP_FRAME_COUNT)) #get  frame count\n",
        "    skip_interval = max(int(frame_count/sequence_length), 1) #Calculate interval after which frames will be added to the list\n",
        "    for counter in range(sequence_length): \n",
        "        video_reader.set(cv2.CAP_PROP_POS_FRAMES, counter * skip_interval) #Set  current frame postion of the video\n",
        "        ret, frame = video_reader.read() \n",
        "        if not ret:\n",
        "            break;\n",
        "        frame=cv2.resize(frame, (height, width)) \n",
        "        frame = frame/255\n",
        "        frames_list.append(frame) \n",
        "    video_reader.release()\n",
        "    return frames_list"
      ]
    },
    {
      "cell_type": "markdown",
      "source": [
        "Load video files, process and store in a data set"
      ],
      "metadata": {
        "id": "cWgxS5jfDEkL"
      }
    },
    {
      "cell_type": "code",
      "execution_count": null,
      "metadata": {
        "id": "mqtkBrzdniev"
      },
      "outputs": [],
      "source": [
        "def load_video(datasets):\n",
        "    global image\n",
        "    label_index=0\n",
        "    labels=[]\n",
        "    images=[]\n",
        "    for folder in datasets:\n",
        "        print(\"Processing >>> \", folder)\n",
        "        for file in tqdm(os.listdir(folder)):\n",
        "            video_path = os.path.join(folder, file)\n",
        "            frames_list = feature_extraction(video_path) #Extract the frames of the current video\n",
        "            images.append(frames_list)\n",
        "            labels.append(label_index)\n",
        "        label_index+=1\n",
        "    return np.array(images, dtype='float16'),np.array(labels, dtype='int8')"
      ]
    },
    {
      "cell_type": "markdown",
      "source": [
        "# IMPORTANT: In below lines, Load_video is called to generate images and labels for the UCF-101 videos. Pickle Files are generated for the images and labels as returned by load_video function to avoid repeated time consuming upload of videos and then downloaded for reuse. Hence the following lines are commented out and the generated pickle files are shared for upload from next line onwards"
      ],
      "metadata": {
        "id": "P9mufBFeB3Ha"
      }
    },
    {
      "cell_type": "code",
      "execution_count": null,
      "metadata": {
        "colab": {
          "base_uri": "https://localhost:8080/"
        },
        "id": "_9SIN8Lnniew",
        "outputId": "6f3e70d0-4c53-4b9f-bbf6-7f7ed5febc42"
      },
      "outputs": [
        {
          "metadata": {
            "tags": null
          },
          "name": "stdout",
          "output_type": "stream",
          "text": [
            "Processing >>>  /content/drive/My Drive/DLA2/UCF-101/ApplyEyeMakeup/\n"
          ]
        },
        {
          "metadata": {
            "tags": null
          },
          "name": "stderr",
          "output_type": "stream",
          "text": [
            "100%|██████████| 145/145 [00:18<00:00,  7.96it/s]\n"
          ]
        },
        {
          "metadata": {
            "tags": null
          },
          "name": "stdout",
          "output_type": "stream",
          "text": [
            "Processing >>>  /content/drive/My Drive/DLA2/UCF-101/ApplyLipstick/\n"
          ]
        },
        {
          "metadata": {
            "tags": null
          },
          "name": "stderr",
          "output_type": "stream",
          "text": [
            "100%|██████████| 114/114 [00:14<00:00,  7.87it/s]\n"
          ]
        },
        {
          "metadata": {
            "tags": null
          },
          "name": "stdout",
          "output_type": "stream",
          "text": [
            "Processing >>>  /content/drive/My Drive/DLA2/UCF-101/Archery/\n"
          ]
        },
        {
          "metadata": {
            "tags": null
          },
          "name": "stderr",
          "output_type": "stream",
          "text": [
            "100%|██████████| 145/145 [00:17<00:00,  8.30it/s]\n"
          ]
        },
        {
          "metadata": {
            "tags": null
          },
          "name": "stdout",
          "output_type": "stream",
          "text": [
            "Processing >>>  /content/drive/My Drive/DLA2/UCF-101/BabyCrawling/\n"
          ]
        },
        {
          "metadata": {
            "tags": null
          },
          "name": "stderr",
          "output_type": "stream",
          "text": [
            "100%|██████████| 132/132 [00:22<00:00,  5.83it/s]\n"
          ]
        },
        {
          "metadata": {
            "tags": null
          },
          "name": "stdout",
          "output_type": "stream",
          "text": [
            "Processing >>>  /content/drive/My Drive/DLA2/UCF-101/BalanceBeam/\n"
          ]
        },
        {
          "metadata": {
            "tags": null
          },
          "name": "stderr",
          "output_type": "stream",
          "text": [
            "100%|██████████| 108/108 [00:14<00:00,  7.42it/s]\n"
          ]
        },
        {
          "metadata": {
            "tags": null
          },
          "name": "stdout",
          "output_type": "stream",
          "text": [
            "Processing >>>  /content/drive/My Drive/DLA2/UCF-101/BandMarching/\n"
          ]
        },
        {
          "metadata": {
            "tags": null
          },
          "name": "stderr",
          "output_type": "stream",
          "text": [
            "100%|██████████| 155/155 [00:28<00:00,  5.42it/s]\n"
          ]
        },
        {
          "metadata": {
            "tags": null
          },
          "name": "stdout",
          "output_type": "stream",
          "text": [
            "Processing >>>  /content/drive/My Drive/DLA2/UCF-101/BaseballPitch/\n"
          ]
        },
        {
          "metadata": {
            "tags": null
          },
          "name": "stderr",
          "output_type": "stream",
          "text": [
            "100%|██████████| 150/150 [00:05<00:00, 27.39it/s]\n"
          ]
        },
        {
          "metadata": {
            "tags": null
          },
          "name": "stdout",
          "output_type": "stream",
          "text": [
            "Processing >>>  /content/drive/My Drive/DLA2/UCF-101/Basketball/\n"
          ]
        },
        {
          "metadata": {
            "tags": null
          },
          "name": "stderr",
          "output_type": "stream",
          "text": [
            "100%|██████████| 134/134 [00:05<00:00, 24.69it/s]\n"
          ]
        },
        {
          "metadata": {
            "tags": null
          },
          "name": "stdout",
          "output_type": "stream",
          "text": [
            "Processing >>>  /content/drive/My Drive/DLA2/UCF-101/BasketballDunk/\n"
          ]
        },
        {
          "metadata": {
            "tags": null
          },
          "name": "stderr",
          "output_type": "stream",
          "text": [
            "100%|██████████| 131/131 [00:08<00:00, 14.76it/s]\n"
          ]
        },
        {
          "metadata": {
            "tags": null
          },
          "name": "stdout",
          "output_type": "stream",
          "text": [
            "Processing >>>  /content/drive/My Drive/DLA2/UCF-101/BenchPress/\n"
          ]
        },
        {
          "metadata": {
            "tags": null
          },
          "name": "stderr",
          "output_type": "stream",
          "text": [
            "100%|██████████| 160/160 [00:06<00:00, 24.71it/s]\n"
          ]
        },
        {
          "metadata": {
            "tags": null
          },
          "name": "stdout",
          "output_type": "stream",
          "text": [
            "Processing >>>  /content/drive/My Drive/DLA2/UCF-101/Biking/\n"
          ]
        },
        {
          "metadata": {
            "tags": null
          },
          "name": "stderr",
          "output_type": "stream",
          "text": [
            "100%|██████████| 134/134 [00:06<00:00, 21.34it/s]\n"
          ]
        },
        {
          "metadata": {
            "tags": null
          },
          "name": "stdout",
          "output_type": "stream",
          "text": [
            "Processing >>>  /content/drive/My Drive/DLA2/UCF-101/Billiards/\n"
          ]
        },
        {
          "metadata": {
            "tags": null
          },
          "name": "stderr",
          "output_type": "stream",
          "text": [
            "100%|██████████| 150/150 [00:06<00:00, 22.81it/s]\n"
          ]
        },
        {
          "metadata": {
            "tags": null
          },
          "name": "stdout",
          "output_type": "stream",
          "text": [
            "Processing >>>  /content/drive/My Drive/DLA2/UCF-101/BlowDryHair/\n"
          ]
        },
        {
          "metadata": {
            "tags": null
          },
          "name": "stderr",
          "output_type": "stream",
          "text": [
            "100%|██████████| 131/131 [00:18<00:00,  6.99it/s]\n"
          ]
        },
        {
          "metadata": {
            "tags": null
          },
          "name": "stdout",
          "output_type": "stream",
          "text": [
            "Processing >>>  /content/drive/My Drive/DLA2/UCF-101/BlowingCandles/\n"
          ]
        },
        {
          "metadata": {
            "tags": null
          },
          "name": "stderr",
          "output_type": "stream",
          "text": [
            "100%|██████████| 109/109 [00:09<00:00, 11.35it/s]\n"
          ]
        },
        {
          "metadata": {
            "tags": null
          },
          "name": "stdout",
          "output_type": "stream",
          "text": [
            "Processing >>>  /content/drive/My Drive/DLA2/UCF-101/BodyWeightSquats/\n"
          ]
        },
        {
          "output_type": "stream",
          "name": "stderr",
          "text": [
            "100%|██████████| 112/112 [00:09<00:00, 11.45it/s]\n"
          ]
        },
        {
          "output_type": "stream",
          "name": "stdout",
          "text": [
            "Processing >>>  /content/drive/My Drive/DLA2/UCF-101/Bowling/\n"
          ]
        },
        {
          "output_type": "stream",
          "name": "stderr",
          "text": [
            "100%|██████████| 155/155 [00:16<00:00,  9.47it/s]\n"
          ]
        },
        {
          "output_type": "stream",
          "name": "stdout",
          "text": [
            "Processing >>>  /content/drive/My Drive/DLA2/UCF-101/BoxingPunchingBag/\n"
          ]
        },
        {
          "output_type": "stream",
          "name": "stderr",
          "text": [
            "100%|██████████| 163/163 [00:19<00:00,  8.21it/s]\n"
          ]
        },
        {
          "output_type": "stream",
          "name": "stdout",
          "text": [
            "Processing >>>  /content/drive/My Drive/DLA2/UCF-101/BoxingSpeedBag/\n"
          ]
        },
        {
          "output_type": "stream",
          "name": "stderr",
          "text": [
            "100%|██████████| 134/134 [00:23<00:00,  5.63it/s]\n"
          ]
        },
        {
          "output_type": "stream",
          "name": "stdout",
          "text": [
            "Processing >>>  /content/drive/My Drive/DLA2/UCF-101/BreastStroke/\n"
          ]
        },
        {
          "output_type": "stream",
          "name": "stderr",
          "text": [
            "100%|██████████| 101/101 [00:04<00:00, 22.24it/s]\n"
          ]
        },
        {
          "output_type": "stream",
          "name": "stdout",
          "text": [
            "Processing >>>  /content/drive/My Drive/DLA2/UCF-101/BrushingTeeth/\n"
          ]
        },
        {
          "output_type": "stream",
          "name": "stderr",
          "text": [
            "100%|██████████| 131/131 [00:18<00:00,  7.18it/s]\n"
          ]
        },
        {
          "output_type": "stream",
          "name": "stdout",
          "text": [
            "Processing >>>  /content/drive/My Drive/DLA2/UCF-101/CleanAndJerk/\n"
          ]
        },
        {
          "output_type": "stream",
          "name": "stderr",
          "text": [
            "100%|██████████| 112/112 [00:06<00:00, 17.93it/s]\n"
          ]
        },
        {
          "output_type": "stream",
          "name": "stdout",
          "text": [
            "Processing >>>  /content/drive/My Drive/DLA2/UCF-101/CliffDiving/\n"
          ]
        },
        {
          "output_type": "stream",
          "name": "stderr",
          "text": [
            "100%|██████████| 138/138 [00:08<00:00, 15.56it/s]\n"
          ]
        },
        {
          "output_type": "stream",
          "name": "stdout",
          "text": [
            "Processing >>>  /content/drive/My Drive/DLA2/UCF-101/CricketBowling/\n"
          ]
        },
        {
          "output_type": "stream",
          "name": "stderr",
          "text": [
            "100%|██████████| 139/139 [00:09<00:00, 14.28it/s]\n"
          ]
        },
        {
          "output_type": "stream",
          "name": "stdout",
          "text": [
            "Processing >>>  /content/drive/My Drive/DLA2/UCF-101/CricketShot/\n"
          ]
        },
        {
          "output_type": "stream",
          "name": "stderr",
          "text": [
            "100%|██████████| 167/167 [00:14<00:00, 11.78it/s]\n"
          ]
        },
        {
          "output_type": "stream",
          "name": "stdout",
          "text": [
            "Processing >>>  /content/drive/My Drive/DLA2/UCF-101/CuttingInKitchen/\n"
          ]
        },
        {
          "output_type": "stream",
          "name": "stderr",
          "text": [
            "100%|██████████| 110/110 [00:13<00:00,  8.45it/s]\n"
          ]
        },
        {
          "output_type": "stream",
          "name": "stdout",
          "text": [
            "Processing >>>  /content/drive/My Drive/DLA2/UCF-101/Diving/\n"
          ]
        },
        {
          "output_type": "stream",
          "name": "stderr",
          "text": [
            "100%|██████████| 150/150 [00:06<00:00, 23.76it/s]\n"
          ]
        },
        {
          "output_type": "stream",
          "name": "stdout",
          "text": [
            "Processing >>>  /content/drive/My Drive/DLA2/UCF-101/Drumming/\n"
          ]
        },
        {
          "output_type": "stream",
          "name": "stderr",
          "text": [
            "100%|██████████| 161/161 [00:09<00:00, 17.25it/s]\n"
          ]
        },
        {
          "output_type": "stream",
          "name": "stdout",
          "text": [
            "Processing >>>  /content/drive/My Drive/DLA2/UCF-101/Fencing/\n"
          ]
        },
        {
          "output_type": "stream",
          "name": "stderr",
          "text": [
            "100%|██████████| 111/111 [00:05<00:00, 19.02it/s]\n"
          ]
        },
        {
          "output_type": "stream",
          "name": "stdout",
          "text": [
            "Processing >>>  /content/drive/My Drive/DLA2/UCF-101/FieldHockeyPenalty/\n"
          ]
        },
        {
          "output_type": "stream",
          "name": "stderr",
          "text": [
            "100%|██████████| 126/126 [00:10<00:00, 12.58it/s]\n"
          ]
        },
        {
          "output_type": "stream",
          "name": "stdout",
          "text": [
            "Processing >>>  /content/drive/My Drive/DLA2/UCF-101/FloorGymnastics/\n"
          ]
        },
        {
          "output_type": "stream",
          "name": "stderr",
          "text": [
            "100%|██████████| 125/125 [00:13<00:00,  8.93it/s]\n"
          ]
        },
        {
          "output_type": "stream",
          "name": "stdout",
          "text": [
            "Processing >>>  /content/drive/My Drive/DLA2/UCF-101/FrisbeeCatch/\n"
          ]
        },
        {
          "output_type": "stream",
          "name": "stderr",
          "text": [
            "100%|██████████| 126/126 [00:09<00:00, 12.66it/s]\n"
          ]
        },
        {
          "output_type": "stream",
          "name": "stdout",
          "text": [
            "Processing >>>  /content/drive/My Drive/DLA2/UCF-101/FrontCrawl/\n"
          ]
        },
        {
          "output_type": "stream",
          "name": "stderr",
          "text": [
            "100%|██████████| 137/137 [00:16<00:00,  8.54it/s]\n"
          ]
        },
        {
          "output_type": "stream",
          "name": "stdout",
          "text": [
            "Processing >>>  /content/drive/My Drive/DLA2/UCF-101/GolfSwing/\n"
          ]
        },
        {
          "output_type": "stream",
          "name": "stderr",
          "text": [
            "100%|██████████| 139/139 [00:06<00:00, 21.43it/s]\n"
          ]
        },
        {
          "output_type": "stream",
          "name": "stdout",
          "text": [
            "Processing >>>  /content/drive/My Drive/DLA2/UCF-101/Haircut/\n"
          ]
        },
        {
          "output_type": "stream",
          "name": "stderr",
          "text": [
            "100%|██████████| 130/130 [00:14<00:00,  8.80it/s]\n"
          ]
        },
        {
          "output_type": "stream",
          "name": "stdout",
          "text": [
            "Processing >>>  /content/drive/My Drive/DLA2/UCF-101/Hammering/\n"
          ]
        },
        {
          "output_type": "stream",
          "name": "stderr",
          "text": [
            "100%|██████████| 140/140 [00:14<00:00,  9.66it/s]\n"
          ]
        },
        {
          "output_type": "stream",
          "name": "stdout",
          "text": [
            "Processing >>>  /content/drive/My Drive/DLA2/UCF-101/HammerThrow/\n"
          ]
        },
        {
          "output_type": "stream",
          "name": "stderr",
          "text": [
            "100%|██████████| 150/150 [00:16<00:00,  9.05it/s]\n"
          ]
        },
        {
          "output_type": "stream",
          "name": "stdout",
          "text": [
            "Processing >>>  /content/drive/My Drive/DLA2/UCF-101/HandstandPushups/\n"
          ]
        },
        {
          "output_type": "stream",
          "name": "stderr",
          "text": [
            "100%|██████████| 128/128 [00:11<00:00, 11.25it/s]\n"
          ]
        },
        {
          "output_type": "stream",
          "name": "stdout",
          "text": [
            "Processing >>>  /content/drive/My Drive/DLA2/UCF-101/HandstandWalking/\n"
          ]
        },
        {
          "output_type": "stream",
          "name": "stderr",
          "text": [
            "100%|██████████| 121/121 [00:13<00:00,  9.03it/s]\n"
          ]
        },
        {
          "output_type": "stream",
          "name": "stdout",
          "text": [
            "Processing >>>  /content/drive/My Drive/DLA2/UCF-101/HeadMassage/\n"
          ]
        },
        {
          "output_type": "stream",
          "name": "stderr",
          "text": [
            "100%|██████████| 147/147 [00:17<00:00,  8.52it/s]\n"
          ]
        },
        {
          "output_type": "stream",
          "name": "stdout",
          "text": [
            "Processing >>>  /content/drive/My Drive/DLA2/UCF-101/HighJump/\n"
          ]
        },
        {
          "output_type": "stream",
          "name": "stderr",
          "text": [
            "100%|██████████| 123/123 [00:04<00:00, 25.28it/s]\n"
          ]
        },
        {
          "output_type": "stream",
          "name": "stdout",
          "text": [
            "Processing >>>  /content/drive/My Drive/DLA2/UCF-101/HorseRace/\n"
          ]
        },
        {
          "output_type": "stream",
          "name": "stderr",
          "text": [
            "100%|██████████| 124/124 [00:06<00:00, 18.73it/s]\n"
          ]
        },
        {
          "output_type": "stream",
          "name": "stdout",
          "text": [
            "Processing >>>  /content/drive/My Drive/DLA2/UCF-101/HorseRiding/\n"
          ]
        },
        {
          "output_type": "stream",
          "name": "stderr",
          "text": [
            "100%|██████████| 164/164 [00:06<00:00, 24.62it/s]\n"
          ]
        },
        {
          "output_type": "stream",
          "name": "stdout",
          "text": [
            "Processing >>>  /content/drive/My Drive/DLA2/UCF-101/HulaHoop/\n"
          ]
        },
        {
          "output_type": "stream",
          "name": "stderr",
          "text": [
            "100%|██████████| 125/125 [00:06<00:00, 18.62it/s]\n"
          ]
        },
        {
          "output_type": "stream",
          "name": "stdout",
          "text": [
            "Processing >>>  /content/drive/My Drive/DLA2/UCF-101/IceDancing/\n"
          ]
        },
        {
          "output_type": "stream",
          "name": "stderr",
          "text": [
            "100%|██████████| 158/158 [00:28<00:00,  5.63it/s]\n"
          ]
        },
        {
          "output_type": "stream",
          "name": "stdout",
          "text": [
            "Processing >>>  /content/drive/My Drive/DLA2/UCF-101/JavelinThrow/\n"
          ]
        },
        {
          "output_type": "stream",
          "name": "stderr",
          "text": [
            "100%|██████████| 117/117 [00:04<00:00, 24.10it/s]\n"
          ]
        },
        {
          "output_type": "stream",
          "name": "stdout",
          "text": [
            "Processing >>>  /content/drive/My Drive/DLA2/UCF-101/JugglingBalls/\n"
          ]
        },
        {
          "output_type": "stream",
          "name": "stderr",
          "text": [
            "100%|██████████| 121/121 [00:06<00:00, 17.66it/s]\n"
          ]
        },
        {
          "output_type": "stream",
          "name": "stdout",
          "text": [
            "Processing >>>  /content/drive/My Drive/DLA2/UCF-101/JumpingJack/\n"
          ]
        },
        {
          "output_type": "stream",
          "name": "stderr",
          "text": [
            "100%|██████████| 123/123 [00:05<00:00, 23.89it/s]\n"
          ]
        },
        {
          "output_type": "stream",
          "name": "stdout",
          "text": [
            "Processing >>>  /content/drive/My Drive/DLA2/UCF-101/JumpRope/\n"
          ]
        },
        {
          "output_type": "stream",
          "name": "stderr",
          "text": [
            "100%|██████████| 144/144 [00:07<00:00, 18.48it/s]\n"
          ]
        },
        {
          "output_type": "stream",
          "name": "stdout",
          "text": [
            "Processing >>>  /content/drive/My Drive/DLA2/UCF-101/Kayaking/\n"
          ]
        },
        {
          "output_type": "stream",
          "name": "stderr",
          "text": [
            "100%|██████████| 141/141 [00:06<00:00, 23.22it/s]\n"
          ]
        },
        {
          "output_type": "stream",
          "name": "stdout",
          "text": [
            "Processing >>>  /content/drive/My Drive/DLA2/UCF-101/Knitting/\n"
          ]
        },
        {
          "output_type": "stream",
          "name": "stderr",
          "text": [
            "100%|██████████| 123/123 [00:17<00:00,  7.03it/s]\n"
          ]
        },
        {
          "output_type": "stream",
          "name": "stdout",
          "text": [
            "Processing >>>  /content/drive/My Drive/DLA2/UCF-101/LongJump/\n"
          ]
        },
        {
          "output_type": "stream",
          "name": "stderr",
          "text": [
            "100%|██████████| 131/131 [00:13<00:00,  9.59it/s]\n"
          ]
        },
        {
          "output_type": "stream",
          "name": "stdout",
          "text": [
            "Processing >>>  /content/drive/My Drive/DLA2/UCF-101/Lunges/\n"
          ]
        },
        {
          "output_type": "stream",
          "name": "stderr",
          "text": [
            "100%|██████████| 127/127 [00:06<00:00, 19.40it/s]\n"
          ]
        },
        {
          "output_type": "stream",
          "name": "stdout",
          "text": [
            "Processing >>>  /content/drive/My Drive/DLA2/UCF-101/MilitaryParade/\n"
          ]
        },
        {
          "output_type": "stream",
          "name": "stderr",
          "text": [
            "100%|██████████| 125/125 [00:06<00:00, 20.49it/s]\n"
          ]
        },
        {
          "output_type": "stream",
          "name": "stdout",
          "text": [
            "Processing >>>  /content/drive/My Drive/DLA2/UCF-101/Mixing/\n"
          ]
        },
        {
          "output_type": "stream",
          "name": "stderr",
          "text": [
            "100%|██████████| 136/136 [00:06<00:00, 20.52it/s]\n"
          ]
        },
        {
          "output_type": "stream",
          "name": "stdout",
          "text": [
            "Processing >>>  /content/drive/My Drive/DLA2/UCF-101/MoppingFloor/\n"
          ]
        },
        {
          "output_type": "stream",
          "name": "stderr",
          "text": [
            "100%|██████████| 110/110 [00:14<00:00,  7.38it/s]\n"
          ]
        },
        {
          "output_type": "stream",
          "name": "stdout",
          "text": [
            "Processing >>>  /content/drive/My Drive/DLA2/UCF-101/Nunchucks/\n"
          ]
        },
        {
          "output_type": "stream",
          "name": "stderr",
          "text": [
            "100%|██████████| 132/132 [00:06<00:00, 21.89it/s]\n"
          ]
        },
        {
          "output_type": "stream",
          "name": "stdout",
          "text": [
            "Processing >>>  /content/drive/My Drive/DLA2/UCF-101/ParallelBars/\n"
          ]
        },
        {
          "output_type": "stream",
          "name": "stderr",
          "text": [
            "100%|██████████| 114/114 [00:12<00:00,  9.42it/s]\n"
          ]
        },
        {
          "output_type": "stream",
          "name": "stdout",
          "text": [
            "Processing >>>  /content/drive/My Drive/DLA2/UCF-101/PizzaTossing/\n"
          ]
        },
        {
          "output_type": "stream",
          "name": "stderr",
          "text": [
            "100%|██████████| 113/113 [00:05<00:00, 21.59it/s]\n"
          ]
        },
        {
          "output_type": "stream",
          "name": "stdout",
          "text": [
            "Processing >>>  /content/drive/My Drive/DLA2/UCF-101/PlayingCello/\n"
          ]
        },
        {
          "output_type": "stream",
          "name": "stderr",
          "text": [
            "100%|██████████| 164/164 [00:20<00:00,  7.95it/s]\n"
          ]
        },
        {
          "output_type": "stream",
          "name": "stdout",
          "text": [
            "Processing >>>  /content/drive/My Drive/DLA2/UCF-101/PlayingDaf/\n"
          ]
        },
        {
          "output_type": "stream",
          "name": "stderr",
          "text": [
            "100%|██████████| 151/151 [00:22<00:00,  6.61it/s]\n"
          ]
        },
        {
          "output_type": "stream",
          "name": "stdout",
          "text": [
            "Processing >>>  /content/drive/My Drive/DLA2/UCF-101/PlayingDhol/\n"
          ]
        },
        {
          "output_type": "stream",
          "name": "stderr",
          "text": [
            "100%|██████████| 164/164 [00:26<00:00,  6.17it/s]\n"
          ]
        },
        {
          "output_type": "stream",
          "name": "stdout",
          "text": [
            "Processing >>>  /content/drive/My Drive/DLA2/UCF-101/PlayingFlute/\n"
          ]
        },
        {
          "output_type": "stream",
          "name": "stderr",
          "text": [
            "100%|██████████| 155/155 [00:25<00:00,  6.04it/s]\n"
          ]
        },
        {
          "output_type": "stream",
          "name": "stdout",
          "text": [
            "Processing >>>  /content/drive/My Drive/DLA2/UCF-101/PlayingGuitar/\n"
          ]
        },
        {
          "output_type": "stream",
          "name": "stderr",
          "text": [
            "100%|██████████| 160/160 [00:06<00:00, 24.46it/s]\n"
          ]
        },
        {
          "output_type": "stream",
          "name": "stdout",
          "text": [
            "Processing >>>  /content/drive/My Drive/DLA2/UCF-101/PlayingPiano/\n"
          ]
        },
        {
          "output_type": "stream",
          "name": "stderr",
          "text": [
            "100%|██████████| 105/105 [00:04<00:00, 24.30it/s]\n"
          ]
        },
        {
          "output_type": "stream",
          "name": "stdout",
          "text": [
            "Processing >>>  /content/drive/My Drive/DLA2/UCF-101/PlayingSitar/\n"
          ]
        },
        {
          "output_type": "stream",
          "name": "stderr",
          "text": [
            "100%|██████████| 157/157 [00:24<00:00,  6.39it/s]\n"
          ]
        },
        {
          "output_type": "stream",
          "name": "stdout",
          "text": [
            "Processing >>>  /content/drive/My Drive/DLA2/UCF-101/PlayingTabla/\n"
          ]
        },
        {
          "output_type": "stream",
          "name": "stderr",
          "text": [
            "100%|██████████| 111/111 [00:05<00:00, 19.49it/s]\n"
          ]
        },
        {
          "output_type": "stream",
          "name": "stdout",
          "text": [
            "Processing >>>  /content/drive/My Drive/DLA2/UCF-101/PlayingViolin/\n"
          ]
        },
        {
          "output_type": "stream",
          "name": "stderr",
          "text": [
            "100%|██████████| 100/100 [00:04<00:00, 22.40it/s]\n"
          ]
        },
        {
          "output_type": "stream",
          "name": "stdout",
          "text": [
            "Processing >>>  /content/drive/My Drive/DLA2/UCF-101/PoleVault/\n"
          ]
        },
        {
          "output_type": "stream",
          "name": "stderr",
          "text": [
            "100%|██████████| 149/149 [00:05<00:00, 26.03it/s]\n"
          ]
        },
        {
          "output_type": "stream",
          "name": "stdout",
          "text": [
            "Processing >>>  /content/drive/My Drive/DLA2/UCF-101/PommelHorse/\n"
          ]
        },
        {
          "output_type": "stream",
          "name": "stderr",
          "text": [
            "100%|██████████| 123/123 [00:08<00:00, 14.78it/s]\n"
          ]
        },
        {
          "output_type": "stream",
          "name": "stdout",
          "text": [
            "Processing >>>  /content/drive/My Drive/DLA2/UCF-101/PullUps/\n"
          ]
        },
        {
          "output_type": "stream",
          "name": "stderr",
          "text": [
            "100%|██████████| 100/100 [00:03<00:00, 25.54it/s]\n"
          ]
        },
        {
          "output_type": "stream",
          "name": "stdout",
          "text": [
            "Processing >>>  /content/drive/My Drive/DLA2/UCF-101/Punch/\n"
          ]
        },
        {
          "output_type": "stream",
          "name": "stderr",
          "text": [
            "100%|██████████| 160/160 [00:08<00:00, 18.09it/s]\n"
          ]
        },
        {
          "output_type": "stream",
          "name": "stdout",
          "text": [
            "Processing >>>  /content/drive/My Drive/DLA2/UCF-101/PushUps/\n"
          ]
        },
        {
          "output_type": "stream",
          "name": "stderr",
          "text": [
            "100%|██████████| 102/102 [00:04<00:00, 22.45it/s]\n"
          ]
        },
        {
          "output_type": "stream",
          "name": "stdout",
          "text": [
            "Processing >>>  /content/drive/My Drive/DLA2/UCF-101/Rafting/\n"
          ]
        },
        {
          "output_type": "stream",
          "name": "stderr",
          "text": [
            "100%|██████████| 111/111 [00:18<00:00,  6.04it/s]\n"
          ]
        },
        {
          "output_type": "stream",
          "name": "stdout",
          "text": [
            "Processing >>>  /content/drive/My Drive/DLA2/UCF-101/RockClimbingIndoor/\n"
          ]
        },
        {
          "output_type": "stream",
          "name": "stderr",
          "text": [
            "100%|██████████| 144/144 [00:07<00:00, 19.09it/s]\n"
          ]
        },
        {
          "output_type": "stream",
          "name": "stdout",
          "text": [
            "Processing >>>  /content/drive/My Drive/DLA2/UCF-101/RopeClimbing/\n"
          ]
        },
        {
          "output_type": "stream",
          "name": "stderr",
          "text": [
            "100%|██████████| 119/119 [00:07<00:00, 16.52it/s]\n"
          ]
        },
        {
          "output_type": "stream",
          "name": "stdout",
          "text": [
            "Processing >>>  /content/drive/My Drive/DLA2/UCF-101/Rowing/\n"
          ]
        },
        {
          "output_type": "stream",
          "name": "stderr",
          "text": [
            "100%|██████████| 137/137 [00:06<00:00, 21.64it/s]\n"
          ]
        },
        {
          "output_type": "stream",
          "name": "stdout",
          "text": [
            "Processing >>>  /content/drive/My Drive/DLA2/UCF-101/SalsaSpin/\n"
          ]
        },
        {
          "output_type": "stream",
          "name": "stderr",
          "text": [
            "100%|██████████| 133/133 [00:06<00:00, 19.05it/s]\n"
          ]
        },
        {
          "output_type": "stream",
          "name": "stdout",
          "text": [
            "Processing >>>  /content/drive/My Drive/DLA2/UCF-101/ShavingBeard/\n"
          ]
        },
        {
          "output_type": "stream",
          "name": "stderr",
          "text": [
            "100%|██████████| 161/161 [00:19<00:00,  8.08it/s]\n"
          ]
        },
        {
          "output_type": "stream",
          "name": "stdout",
          "text": [
            "Processing >>>  /content/drive/My Drive/DLA2/UCF-101/Shotput/\n"
          ]
        },
        {
          "output_type": "stream",
          "name": "stderr",
          "text": [
            "100%|██████████| 144/144 [00:13<00:00, 10.86it/s]\n"
          ]
        },
        {
          "output_type": "stream",
          "name": "stdout",
          "text": [
            "Processing >>>  /content/drive/My Drive/DLA2/UCF-101/SkateBoarding/\n"
          ]
        },
        {
          "output_type": "stream",
          "name": "stderr",
          "text": [
            "100%|██████████| 120/120 [00:05<00:00, 22.62it/s]\n"
          ]
        },
        {
          "output_type": "stream",
          "name": "stdout",
          "text": [
            "Processing >>>  /content/drive/My Drive/DLA2/UCF-101/Skiing/\n"
          ]
        },
        {
          "output_type": "stream",
          "name": "stderr",
          "text": [
            "100%|██████████| 135/135 [00:07<00:00, 18.52it/s]\n"
          ]
        },
        {
          "output_type": "stream",
          "name": "stdout",
          "text": [
            "Processing >>>  /content/drive/My Drive/DLA2/UCF-101/Skijet/\n"
          ]
        },
        {
          "output_type": "stream",
          "name": "stderr",
          "text": [
            "100%|██████████| 100/100 [00:04<00:00, 21.22it/s]\n"
          ]
        },
        {
          "output_type": "stream",
          "name": "stdout",
          "text": [
            "Processing >>>  /content/drive/My Drive/DLA2/UCF-101/SkyDiving/\n"
          ]
        },
        {
          "output_type": "stream",
          "name": "stderr",
          "text": [
            "100%|██████████| 110/110 [00:14<00:00,  7.52it/s]\n"
          ]
        },
        {
          "output_type": "stream",
          "name": "stdout",
          "text": [
            "Processing >>>  /content/drive/My Drive/DLA2/UCF-101/SoccerJuggling/\n"
          ]
        },
        {
          "output_type": "stream",
          "name": "stderr",
          "text": [
            "100%|██████████| 147/147 [00:08<00:00, 16.64it/s]\n"
          ]
        },
        {
          "output_type": "stream",
          "name": "stdout",
          "text": [
            "Processing >>>  /content/drive/My Drive/DLA2/UCF-101/SoccerPenalty/\n"
          ]
        },
        {
          "output_type": "stream",
          "name": "stderr",
          "text": [
            "100%|██████████| 137/137 [00:09<00:00, 14.92it/s]\n"
          ]
        },
        {
          "output_type": "stream",
          "name": "stdout",
          "text": [
            "Processing >>>  /content/drive/My Drive/DLA2/UCF-101/StillRings/\n"
          ]
        },
        {
          "output_type": "stream",
          "name": "stderr",
          "text": [
            "100%|██████████| 112/112 [00:12<00:00,  8.64it/s]\n"
          ]
        },
        {
          "output_type": "stream",
          "name": "stdout",
          "text": [
            "Processing >>>  /content/drive/My Drive/DLA2/UCF-101/SumoWrestling/\n"
          ]
        },
        {
          "output_type": "stream",
          "name": "stderr",
          "text": [
            "100%|██████████| 116/116 [00:16<00:00,  7.03it/s]\n"
          ]
        },
        {
          "output_type": "stream",
          "name": "stdout",
          "text": [
            "Processing >>>  /content/drive/My Drive/DLA2/UCF-101/Surfing/\n"
          ]
        },
        {
          "output_type": "stream",
          "name": "stderr",
          "text": [
            "100%|██████████| 126/126 [00:17<00:00,  7.30it/s]\n"
          ]
        },
        {
          "output_type": "stream",
          "name": "stdout",
          "text": [
            "Processing >>>  /content/drive/My Drive/DLA2/UCF-101/Swing/\n"
          ]
        },
        {
          "output_type": "stream",
          "name": "stderr",
          "text": [
            "100%|██████████| 131/131 [00:05<00:00, 23.24it/s]\n"
          ]
        },
        {
          "output_type": "stream",
          "name": "stdout",
          "text": [
            "Processing >>>  /content/drive/My Drive/DLA2/UCF-101/TableTennisShot/\n"
          ]
        },
        {
          "output_type": "stream",
          "name": "stderr",
          "text": [
            "100%|██████████| 140/140 [00:17<00:00,  8.14it/s]\n"
          ]
        },
        {
          "output_type": "stream",
          "name": "stdout",
          "text": [
            "Processing >>>  /content/drive/My Drive/DLA2/UCF-101/TaiChi/\n"
          ]
        },
        {
          "output_type": "stream",
          "name": "stderr",
          "text": [
            "100%|██████████| 100/100 [00:04<00:00, 23.19it/s]\n"
          ]
        },
        {
          "output_type": "stream",
          "name": "stdout",
          "text": [
            "Processing >>>  /content/drive/My Drive/DLA2/UCF-101/TennisSwing/\n"
          ]
        },
        {
          "output_type": "stream",
          "name": "stderr",
          "text": [
            "100%|██████████| 166/166 [00:05<00:00, 27.71it/s]\n"
          ]
        },
        {
          "output_type": "stream",
          "name": "stdout",
          "text": [
            "Processing >>>  /content/drive/My Drive/DLA2/UCF-101/ThrowDiscus/\n"
          ]
        },
        {
          "output_type": "stream",
          "name": "stderr",
          "text": [
            "100%|██████████| 130/130 [00:06<00:00, 19.53it/s]\n"
          ]
        },
        {
          "output_type": "stream",
          "name": "stdout",
          "text": [
            "Processing >>>  /content/drive/My Drive/DLA2/UCF-101/TrampolineJumping/\n"
          ]
        },
        {
          "output_type": "stream",
          "name": "stderr",
          "text": [
            "100%|██████████| 119/119 [00:04<00:00, 24.18it/s]\n"
          ]
        },
        {
          "output_type": "stream",
          "name": "stdout",
          "text": [
            "Processing >>>  /content/drive/My Drive/DLA2/UCF-101/Typing/\n"
          ]
        },
        {
          "output_type": "stream",
          "name": "stderr",
          "text": [
            "100%|██████████| 136/136 [00:16<00:00,  8.10it/s]\n"
          ]
        },
        {
          "output_type": "stream",
          "name": "stdout",
          "text": [
            "Processing >>>  /content/drive/My Drive/DLA2/UCF-101/UnevenBars/\n"
          ]
        },
        {
          "output_type": "stream",
          "name": "stderr",
          "text": [
            "100%|██████████| 104/104 [00:11<00:00,  8.71it/s]\n"
          ]
        },
        {
          "output_type": "stream",
          "name": "stdout",
          "text": [
            "Processing >>>  /content/drive/My Drive/DLA2/UCF-101/VolleyballSpiking/\n"
          ]
        },
        {
          "output_type": "stream",
          "name": "stderr",
          "text": [
            "100%|██████████| 116/116 [00:05<00:00, 20.83it/s]\n"
          ]
        },
        {
          "output_type": "stream",
          "name": "stdout",
          "text": [
            "Processing >>>  /content/drive/My Drive/DLA2/UCF-101/WalkingWithDog/\n"
          ]
        },
        {
          "output_type": "stream",
          "name": "stderr",
          "text": [
            "100%|██████████| 123/123 [00:05<00:00, 22.72it/s]\n"
          ]
        },
        {
          "output_type": "stream",
          "name": "stdout",
          "text": [
            "Processing >>>  /content/drive/My Drive/DLA2/UCF-101/WallPushups/\n"
          ]
        },
        {
          "output_type": "stream",
          "name": "stderr",
          "text": [
            "100%|██████████| 130/130 [00:10<00:00, 12.12it/s]\n"
          ]
        },
        {
          "output_type": "stream",
          "name": "stdout",
          "text": [
            "Processing >>>  /content/drive/My Drive/DLA2/UCF-101/WritingOnBoard/\n"
          ]
        },
        {
          "output_type": "stream",
          "name": "stderr",
          "text": [
            "100%|██████████| 152/152 [00:16<00:00,  9.05it/s]\n"
          ]
        },
        {
          "output_type": "stream",
          "name": "stdout",
          "text": [
            "Processing >>>  /content/drive/My Drive/DLA2/UCF-101/YoYo/\n"
          ]
        },
        {
          "output_type": "stream",
          "name": "stderr",
          "text": [
            "100%|██████████| 128/128 [00:05<00:00, 24.27it/s]\n"
          ]
        }
      ],
      "source": [
        "# images, labels = load_video(path[:])\n",
        "\n",
        "# with open('ucf101images.pkl', 'wb') as pickle_file:\n",
        "#   pickle.dump(images, pickle_file)\n",
        "\n",
        "# with open('ucf101labels.pkl', 'wb') as pickle_file:\n",
        "#   pickle.dump(labels, pickle_file)"
      ]
    },
    {
      "cell_type": "code",
      "source": [
        "# files.download('ucf101images.pkl') \n",
        "# files.download('ucf101labels.pkl') "
      ],
      "metadata": {
        "colab": {
          "base_uri": "https://localhost:8080/",
          "height": 17
        },
        "id": "8N-VH0GRJ1ib",
        "outputId": "09825f2a-3cca-4703-b739-aaeb3cba0e51"
      },
      "execution_count": null,
      "outputs": [
        {
          "output_type": "display_data",
          "data": {
            "text/plain": [
              "<IPython.core.display.Javascript object>"
            ],
            "application/javascript": [
              "\n",
              "    async function download(id, filename, size) {\n",
              "      if (!google.colab.kernel.accessAllowed) {\n",
              "        return;\n",
              "      }\n",
              "      const div = document.createElement('div');\n",
              "      const label = document.createElement('label');\n",
              "      label.textContent = `Downloading \"${filename}\": `;\n",
              "      div.appendChild(label);\n",
              "      const progress = document.createElement('progress');\n",
              "      progress.max = size;\n",
              "      div.appendChild(progress);\n",
              "      document.body.appendChild(div);\n",
              "\n",
              "      const buffers = [];\n",
              "      let downloaded = 0;\n",
              "\n",
              "      const channel = await google.colab.kernel.comms.open(id);\n",
              "      // Send a message to notify the kernel that we're ready.\n",
              "      channel.send({})\n",
              "\n",
              "      for await (const message of channel.messages) {\n",
              "        // Send a message to notify the kernel that we're ready.\n",
              "        channel.send({})\n",
              "        if (message.buffers) {\n",
              "          for (const buffer of message.buffers) {\n",
              "            buffers.push(buffer);\n",
              "            downloaded += buffer.byteLength;\n",
              "            progress.value = downloaded;\n",
              "          }\n",
              "        }\n",
              "      }\n",
              "      const blob = new Blob(buffers, {type: 'application/binary'});\n",
              "      const a = document.createElement('a');\n",
              "      a.href = window.URL.createObjectURL(blob);\n",
              "      a.download = filename;\n",
              "      div.appendChild(a);\n",
              "      a.click();\n",
              "      div.remove();\n",
              "    }\n",
              "  "
            ]
          },
          "metadata": {}
        },
        {
          "output_type": "display_data",
          "data": {
            "text/plain": [
              "<IPython.core.display.Javascript object>"
            ],
            "application/javascript": [
              "download(\"download_b2453875-dbd2-421d-bc1e-4f2e59bb22c3\", \"ucf101images.pkl\", 1439640169)"
            ]
          },
          "metadata": {}
        },
        {
          "output_type": "display_data",
          "data": {
            "text/plain": [
              "<IPython.core.display.Javascript object>"
            ],
            "application/javascript": [
              "\n",
              "    async function download(id, filename, size) {\n",
              "      if (!google.colab.kernel.accessAllowed) {\n",
              "        return;\n",
              "      }\n",
              "      const div = document.createElement('div');\n",
              "      const label = document.createElement('label');\n",
              "      label.textContent = `Downloading \"${filename}\": `;\n",
              "      div.appendChild(label);\n",
              "      const progress = document.createElement('progress');\n",
              "      progress.max = size;\n",
              "      div.appendChild(progress);\n",
              "      document.body.appendChild(div);\n",
              "\n",
              "      const buffers = [];\n",
              "      let downloaded = 0;\n",
              "\n",
              "      const channel = await google.colab.kernel.comms.open(id);\n",
              "      // Send a message to notify the kernel that we're ready.\n",
              "      channel.send({})\n",
              "\n",
              "      for await (const message of channel.messages) {\n",
              "        // Send a message to notify the kernel that we're ready.\n",
              "        channel.send({})\n",
              "        if (message.buffers) {\n",
              "          for (const buffer of message.buffers) {\n",
              "            buffers.push(buffer);\n",
              "            downloaded += buffer.byteLength;\n",
              "            progress.value = downloaded;\n",
              "          }\n",
              "        }\n",
              "      }\n",
              "      const blob = new Blob(buffers, {type: 'application/binary'});\n",
              "      const a = document.createElement('a');\n",
              "      a.href = window.URL.createObjectURL(blob);\n",
              "      a.download = filename;\n",
              "      div.appendChild(a);\n",
              "      a.click();\n",
              "      div.remove();\n",
              "    }\n",
              "  "
            ]
          },
          "metadata": {}
        },
        {
          "output_type": "display_data",
          "data": {
            "text/plain": [
              "<IPython.core.display.Javascript object>"
            ],
            "application/javascript": [
              "download(\"download_a2a82f0a-f6cd-44eb-b9b0-d66483bcf336\", \"ucf101labels.pkl\", 13481)"
            ]
          },
          "metadata": {}
        }
      ]
    },
    {
      "cell_type": "code",
      "source": [
        "with open('ucf101labels.pkl', 'rb') as fl: #change the path as required\n",
        "    labels = pickle.load(fl)\n",
        "with open('ucf101images.pkl', 'rb') as fi: #change the path as required\n",
        "    images = pickle.load(fi)"
      ],
      "metadata": {
        "id": "AyAkY40OAbA0"
      },
      "execution_count": null,
      "outputs": []
    },
    {
      "cell_type": "markdown",
      "source": [],
      "metadata": {
        "id": "sx8S9tnbQUXx"
      }
    },
    {
      "cell_type": "code",
      "execution_count": null,
      "metadata": {
        "id": "xCthUD2pniew",
        "outputId": "98d4c071-1e1c-4714-8f70-6868738a40bd",
        "colab": {
          "base_uri": "https://localhost:8080/"
        }
      },
      "outputs": [
        {
          "output_type": "execute_result",
          "data": {
            "text/plain": [
              "((13330, 5, 60, 60, 3), (13330,))"
            ]
          },
          "metadata": {},
          "execution_count": 27
        }
      ],
      "source": [
        "#Shapes\n",
        "images.shape, pd.Series(labels).shape"
      ]
    },
    {
      "cell_type": "code",
      "execution_count": null,
      "metadata": {
        "id": "DoorzDozniex",
        "outputId": "a8d2cd5c-6ef7-43a0-9ba4-b63e78101281",
        "colab": {
          "base_uri": "https://localhost:8080/"
        }
      },
      "outputs": [
        {
          "output_type": "execute_result",
          "data": {
            "text/plain": [
              "((12530, 5, 60, 60, 3), (800, 5, 60, 60, 3), (12530,), (800,))"
            ]
          },
          "metadata": {},
          "execution_count": 28
        }
      ],
      "source": [
        "#Train Test Split\n",
        "x_train, x_test, y_train, y_test=train_test_split(images, labels, test_size=0.06, random_state=10)\n",
        "x_train.shape, x_test.shape, np.array(y_train).shape, np.array(y_test).shape"
      ]
    },
    {
      "cell_type": "code",
      "execution_count": null,
      "metadata": {
        "id": "B376OEARniey",
        "outputId": "53948d88-8f5b-4017-973e-ed20f252c853",
        "colab": {
          "base_uri": "https://localhost:8080/"
        }
      },
      "outputs": [
        {
          "output_type": "stream",
          "name": "stdout",
          "text": [
            "Model: \"sequential_1\"\n",
            "_________________________________________________________________\n",
            " Layer (type)                Output Shape              Param #   \n",
            "=================================================================\n",
            " conv_lstm2d_4 (ConvLSTM2D)  (None, 5, 58, 58, 16)     11008     \n",
            "                                                                 \n",
            " max_pooling3d_4 (MaxPooling  (None, 5, 29, 29, 16)    0         \n",
            " 3D)                                                             \n",
            "                                                                 \n",
            " time_distributed_4 (TimeDis  (None, 5, 29, 29, 16)    0         \n",
            " tributed)                                                       \n",
            "                                                                 \n",
            " conv_lstm2d_5 (ConvLSTM2D)  (None, 5, 27, 27, 16)     18496     \n",
            "                                                                 \n",
            " max_pooling3d_5 (MaxPooling  (None, 5, 14, 14, 16)    0         \n",
            " 3D)                                                             \n",
            "                                                                 \n",
            " time_distributed_5 (TimeDis  (None, 5, 14, 14, 16)    0         \n",
            " tributed)                                                       \n",
            "                                                                 \n",
            " conv_lstm2d_6 (ConvLSTM2D)  (None, 5, 12, 12, 16)     18496     \n",
            "                                                                 \n",
            " max_pooling3d_6 (MaxPooling  (None, 5, 6, 6, 16)      0         \n",
            " 3D)                                                             \n",
            "                                                                 \n",
            " time_distributed_6 (TimeDis  (None, 5, 6, 6, 16)      0         \n",
            " tributed)                                                       \n",
            "                                                                 \n",
            " conv_lstm2d_7 (ConvLSTM2D)  (None, 5, 4, 4, 16)       18496     \n",
            "                                                                 \n",
            " max_pooling3d_7 (MaxPooling  (None, 5, 2, 2, 16)      0         \n",
            " 3D)                                                             \n",
            "                                                                 \n",
            " time_distributed_7 (TimeDis  (None, 5, 2, 2, 16)      0         \n",
            " tributed)                                                       \n",
            "                                                                 \n",
            " flatten_1 (Flatten)         (None, 320)               0         \n",
            "                                                                 \n",
            " dense_1 (Dense)             (None, 101)               32421     \n",
            "                                                                 \n",
            "=================================================================\n",
            "Total params: 98,917\n",
            "Trainable params: 98,917\n",
            "Non-trainable params: 0\n",
            "_________________________________________________________________\n"
          ]
        }
      ],
      "source": [
        "model = Sequential()\n",
        "\n",
        "model.add(ConvLSTM2D(filters = 16, kernel_size=(3,3), activation='relu', data_format='channels_last', return_sequences=True, recurrent_dropout=0.2, input_shape=(x_train.shape[1],x_train.shape[2], x_train.shape[3], 3)))\n",
        "model.add(MaxPooling3D(pool_size=(1,2,2), padding='same', data_format='channels_last'))\n",
        "model.add(TimeDistributed(Dropout(0.2)))\n",
        "\n",
        "model.add(ConvLSTM2D(filters = 16, kernel_size=(3,3), activation='relu', data_format='channels_last', return_sequences=True, recurrent_dropout=0.2))\n",
        "model.add(MaxPooling3D(pool_size=(1,2,2), padding='same', data_format='channels_last'))\n",
        "model.add(TimeDistributed(Dropout(0.2)))\n",
        "\n",
        "model.add(ConvLSTM2D(filters = 16, kernel_size=(3,3), activation='relu', data_format='channels_last', return_sequences=True, recurrent_dropout=0.2))\n",
        "model.add(MaxPooling3D(pool_size=(1,2,2), padding='same', data_format='channels_last'))\n",
        "model.add(TimeDistributed(Dropout(0.2)))\n",
        "\n",
        "model.add(ConvLSTM2D(filters = 16, kernel_size=(3,3), activation='relu', data_format='channels_last', return_sequences=True, recurrent_dropout=0.2))\n",
        "model.add(MaxPooling3D(pool_size=(1,2,2), padding='same', data_format='channels_last'))\n",
        "model.add(TimeDistributed(Dropout(0.2)))\n",
        "\n",
        "model.add(Flatten())\n",
        "          \n",
        "model.add(Dense(101, activation='softmax'))\n",
        "model.summary()"
      ]
    },
    {
      "cell_type": "code",
      "execution_count": null,
      "metadata": {
        "id": "HJ3o44Kxniey"
      },
      "outputs": [],
      "source": [
        "#compile model\n",
        "model.compile(loss='categorical_crossentropy', optimizer='adam', metrics=['accuracy'])"
      ]
    },
    {
      "cell_type": "code",
      "execution_count": null,
      "metadata": {
        "id": "WSejtxzRniez",
        "outputId": "8b60f18c-b165-423b-993e-94ef75d62694",
        "colab": {
          "base_uri": "https://localhost:8080/"
        }
      },
      "outputs": [
        {
          "output_type": "stream",
          "name": "stdout",
          "text": [
            "Epoch 1/50\n",
            "405/405 [==============================] - 2503s 6s/step - loss: 4.5267 - accuracy: 0.0251 - val_loss: 4.2913 - val_accuracy: 0.0688\n",
            "Epoch 2/50\n",
            "405/405 [==============================] - 2428s 6s/step - loss: 3.9293 - accuracy: 0.1011 - val_loss: 3.6933 - val_accuracy: 0.1462\n",
            "Epoch 3/50\n",
            "317/405 [======================>.......] - ETA: 8:40 - loss: 3.4769 - accuracy: 0.1685"
          ]
        }
      ],
      "source": [
        "#Model training\n",
        "es = EarlyStopping(monitor='val_loss', patience=5, mode='min', restore_best_weights=True)\n",
        "history = model.fit(x_train, to_categorical(y_train), batch_size=31, epochs=50, validation_data=(x_test, to_categorical(y_test)), callbacks=[es])"
      ]
    },
    {
      "cell_type": "code",
      "execution_count": null,
      "metadata": {
        "id": "NJ3Qc-B7niez",
        "outputId": "a8777e6e-cc9d-4665-a127-66edf88c39d4",
        "colab": {
          "base_uri": "https://localhost:8080/",
          "height": 336
        }
      },
      "outputs": [
        {
          "output_type": "display_data",
          "data": {
            "text/plain": [
              "<Figure size 936x360 with 1 Axes>"
            ],
            "image/png": "[encoded data removed]"
          },
          "metadata": {
            "needs_background": "light"
          }
        }
      ],
      "source": [
        "#Plot the graph to check training and testing accuracy over the period of time\n",
        "plt.figure(figsize=(13,5))\n",
        "plt.title(\"Accuracy vs Epochs\")\n",
        "plt.plot(history.history['accuracy'], label='Train Accuracy')\n",
        "plt.plot(history.history['val_accuracy'], label='Test Accuracy')\n",
        "plt.legend(loc='best')\n",
        "plt.show()"
      ]
    },
    {
      "cell_type": "code",
      "execution_count": null,
      "metadata": {
        "id": "6CA9R_Cenie0"
      },
      "outputs": [],
      "source": []
    },
    {
      "cell_type": "code",
      "execution_count": null,
      "metadata": {
        "id": "j_rZMO5ynie0",
        "colab": {
          "base_uri": "https://localhost:8080/"
        },
        "outputId": "c12cc76b-0af4-4dda-d7c7-d63c7eb09af2"
      },
      "outputs": [
        {
          "output_type": "stream",
          "name": "stdout",
          "text": [
            "15/15 [==============================] - 1s 22ms/step\n"
          ]
        }
      ],
      "source": [
        "y_pred = model.predict(x_test)\n",
        "predicted_classes=[]\n",
        "for i in range(len(y_test)):\n",
        "    predicted_classes.append(np.argmax(y_pred[i]))"
      ]
    },
    {
      "cell_type": "code",
      "execution_count": null,
      "metadata": {
        "id": "bf1fI7mEnie1",
        "outputId": "1bbea03c-8318-484c-d66f-282fed12a1bf",
        "colab": {
          "base_uri": "https://localhost:8080/"
        }
      },
      "outputs": [
        {
          "output_type": "execute_result",
          "data": {
            "text/plain": [
              "0.6787234042553192"
            ]
          },
          "metadata": {},
          "execution_count": 19
        }
      ],
      "source": [
        "#Test Accuracy\n",
        "accuracy_score(y_test, predicted_classes)"
      ]
    },
    {
      "cell_type": "code",
      "execution_count": null,
      "metadata": {
        "id": "fDeKxkIXnie1",
        "outputId": "47182e4e-3a2a-4d7d-d297-5985fbc20051",
        "colab": {
          "base_uri": "https://localhost:8080/",
          "height": 937
        }
      },
      "outputs": [
        {
          "output_type": "display_data",
          "data": {
            "text/plain": [
              "<Figure size 1800x1800 with 1 Axes>"
            ],
            "image/png": "[encoded data removed]"
          },
          "metadata": {
            "needs_background": "light"
          }
        }
      ],
      "source": [
        "#Confusion Matrix\n",
        "plt.figure(figsize=(25,25))\n",
        "plt.title(\"Confusion matrix\")\n",
        "cm=confusion_matrix(y_test, predicted_classes)\n",
        "plt.imshow(cm)\n",
        "for i, j in itertools.product(range(cm.shape[0]), range(cm.shape[1])):\n",
        "    plt.text(j, i, cm[i, j], horizontalalignment=\"center\")\n",
        "plt.show()"
      ]
    },
    {
      "cell_type": "code",
      "execution_count": null,
      "metadata": {
        "id": "24lIGOE_nie2"
      },
      "outputs": [],
      "source": [
        "model.save('CNN_Model.h5')"
      ]
    },
    {
      "cell_type": "code",
      "execution_count": null,
      "metadata": {
        "id": "M8_OUyG4nie2"
      },
      "outputs": [],
      "source": []
    }
  ],
  "metadata": {
    "colab": {
      "provenance": [],
      "include_colab_link": true
    },
    "gpuClass": "premium",
    "kernelspec": {
      "display_name": "Python 3",
      "language": "python",
      "name": "python3"
    }
  },
  "nbformat": 4,
  "nbformat_minor": 0
}